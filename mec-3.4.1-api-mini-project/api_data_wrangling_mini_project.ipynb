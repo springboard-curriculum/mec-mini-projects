{
 "cells": [
  {
   "cell_type": "markdown",
   "metadata": {},
   "source": [
    "This exercise will require you to pull some data from https://data.nasdaq.com/ (formerly Quandl API)."
   ]
  },
  {
   "cell_type": "markdown",
   "metadata": {},
   "source": [
    "As a first step, you will need to register a free account on the https://data.nasdaq.com/ website."
   ]
  },
  {
   "cell_type": "markdown",
   "metadata": {},
   "source": [
    "After you register, you will be provided with a unique API key, that you should store:\n",
    "\n",
    "*Note*: Use a `.env` file and put your key in there and `python-dotenv` to access it in this notebook. \n",
    "\n",
    "The code below uses a key that was used when generating this project but has since been deleted. Never submit your keys to source control. There is a `.env-example` file in this repository to illusrtate what you need. Copy that to a file called `.env` and use your own api key in that `.env` file. Make sure you also have a `.gitignore` file with a line for `.env` added to it. \n",
    "\n",
    "The standard Python gitignore is [here](https://github.com/github/gitignore/blob/master/Python.gitignore) you can just copy that. "
   ]
  },
  {
   "cell_type": "code",
   "execution_count": 3,
   "metadata": {},
   "outputs": [
    {
     "name": "stdout",
     "output_type": "stream",
     "text": [
      "7MadrSm5uJz-31r7rF4z\n"
     ]
    }
   ],
   "source": [
    "# get api key from your .env file\n",
    "import os\n",
    "from dotenv import load_dotenv  # if missing this module, simply run `pip install python-dotenv`\n",
    "\n",
    "load_dotenv()\n",
    "API_KEY = os.getenv('API_KEY')\n",
    "\n",
    "print(API_KEY)"
   ]
  },
  {
   "cell_type": "markdown",
   "metadata": {},
   "source": [
    "Nasdaq Data has a large number of data sources, but, unfortunately, most of them require a Premium subscription. Still, there are also a good number of free datasets."
   ]
  },
  {
   "cell_type": "markdown",
   "metadata": {},
   "source": [
    "For this mini project, we will focus on equities data from the Frankfurt Stock Exhange (FSE), which is available for free. We'll try and analyze the stock prices of a company called Carl Zeiss Meditec, which manufactures tools for eye examinations, as well as medical lasers for laser eye surgery: https://www.zeiss.com/meditec/int/home.html. The company is listed under the stock ticker AFX_X."
   ]
  },
  {
   "cell_type": "markdown",
   "metadata": {},
   "source": [
    "You can find the detailed Nasdaq Data API instructions here: https://docs.data.nasdaq.com/docs/in-depth-usage"
   ]
  },
  {
   "cell_type": "markdown",
   "metadata": {},
   "source": [
    "While there is a dedicated Python package for connecting to the Nasdaq API, we would prefer that you use the *requests* package, which can be easily downloaded using *pip* or *conda*. You can find the documentation for the package here: http://docs.python-requests.org/en/master/ "
   ]
  },
  {
   "cell_type": "markdown",
   "metadata": {},
   "source": [
    "Finally, apart from the *requests* package, you are encouraged to not use any third party Python packages, such as *pandas*, and instead focus on what's available in the Python Standard Library (the *collections* module might come in handy: https://pymotw.com/3/collections/).\n",
    "Also, since you won't have access to DataFrames, you are encouraged to us Python's native data structures - preferably dictionaries, though some questions can also be answered using lists.\n",
    "You can read more on these data structures here: https://docs.python.org/3/tutorial/datastructures.html"
   ]
  },
  {
   "cell_type": "markdown",
   "metadata": {},
   "source": [
    "Keep in mind that the JSON responses you will be getting from the API map almost one-to-one to Python's dictionaries. Unfortunately, they can be very nested, so make sure you read up on indexing dictionaries in the documentation provided above."
   ]
  },
  {
   "cell_type": "code",
   "execution_count": 4,
   "metadata": {},
   "outputs": [],
   "source": [
    "import requests"
   ]
  },
  {
   "cell_type": "markdown",
   "metadata": {},
   "source": [
    "Note: API's can change a bit with each version, for this exercise it is reccomended to use the nasdaq api at `https://data.nasdaq.com/api/v3/`. This is the same api as what used to be quandl so `https://www.quandl.com/api/v3/` should work too.\n",
    "\n",
    "Hint: We are looking for the `AFX_X` data on the `datasets/FSE/` dataset."
   ]
  },
  {
   "cell_type": "code",
   "execution_count": 50,
   "metadata": {},
   "outputs": [
    {
     "name": "stdout",
     "output_type": "stream",
     "text": [
      "<class 'dict'>\n"
     ]
    }
   ],
   "source": [
    "#1. Collect data from the Franfurt Stock Exchange, for the ticker AFX_X, for the whole year 2017 (keep in mind that the date format is YYYY-MM-DD).\n",
    "fse = requests.get(f'https://data.nasdaq.com/api/v3/datasets/FSE/AFX_X.json?api_key={API_KEY}')\n",
    "fse = requests.get(f'https://data.nasdaq.com/api/v3/datasets/FSE/VNA_X?start_date=2017-01-01&end_date=2017-12-31&api_key={API_KEY}')\n",
    "#2. Convert the returned JSON object into a Python dictionary.\n",
    "json = fse.json()\n",
    "print(type(json))"
   ]
  },
  {
   "cell_type": "code",
   "execution_count": 79,
   "metadata": {
    "scrolled": true
   },
   "outputs": [],
   "source": []
  },
  {
   "cell_type": "markdown",
   "metadata": {},
   "source": [
    "These are your tasks for this mini project:\n",
    "\n",
    "1. Collect data from the Franfurt Stock Exchange, for the ticker AFX_X, for the whole year 2017 (keep in mind that the date format is YYYY-MM-DD).\n",
    "2. Convert the returned JSON object into a Python dictionary.\n",
    "3. Calculate what the highest and lowest opening prices were for the stock in this period.\n",
    "4. What was the largest change in any one day (based on High and Low price)?\n",
    "5. What was the largest change between any two days (based on Closing Price)?\n",
    "6. What was the average daily trading volume during this year?\n",
    "7. (Optional) What was the median trading volume during this year. (Note: you may need to implement your own function for calculating the median.)"
   ]
  },
  {
   "cell_type": "code",
   "execution_count": 58,
   "metadata": {},
   "outputs": [
    {
     "name": "stdout",
     "output_type": "stream",
     "text": [
      "['Date', 'Open', 'High', 'Low', 'Close', 'Change', 'Traded Volume', 'Turnover', 'Last Price of the Day', 'Daily Traded Units', 'Daily Turnover']\n"
     ]
    }
   ],
   "source": [
    "print(json['dataset']['column_names'])"
   ]
  },
  {
   "cell_type": "code",
   "execution_count": 81,
   "metadata": {},
   "outputs": [
    {
     "name": "stdout",
     "output_type": "stream",
     "text": [
      "[['2017-12-29', 41.225, 41.425, 41.145, 41.39, None, 601057.0, 24840221.0, None, None, None], ['2017-12-28', 41.3, 41.34, 41.095, 41.22, None, 608053.0, 25062545.0, None, None, None], ['2017-12-27', 41.01, 41.335, 40.815, 41.335, None, 732911.0, 30168070.0, None, None, None], ['2017-12-22', 40.64, 40.975, 40.585, 40.975, None, 843468.0, 34444774.0, None, None, None], ['2017-12-21', 41.085, 41.1, 40.565, 40.7, None, 1384516.0, 56441896.0, None, None, None], ['2017-12-20', 41.715, 41.895, 40.935, 41.035, None, 1411562.0, 58322057.0, None, None, None], ['2017-12-19', 41.95, 42.215, 41.625, 41.64, None, 1314959.0, 55010330.0, None, None, None], ['2017-12-18', 41.5, 42.05, 40.92, 41.88, None, 2098187.0, 87316028.0, None, None, None], ['2017-12-15', 40.72, 41.35, 40.68, 41.35, None, 2733044.0, 112478446.0, None, None, None], ['2017-12-14', 40.79, 41.0, 40.63, 40.94, None, 1243035.0, 50820573.0, None, None, None], ['2017-12-13', 41.205, 41.22, 40.81, 40.845, None, 1036110.0, 42434183.0, None, None, None], ['2017-12-12', 41.36, 41.435, 40.845, 41.08, None, 1477381.0, 60712041.0, None, None, None], ['2017-12-11', 41.175, 41.355, 41.04, 41.125, None, 1043727.0, 42973562.0, None, None, None], ['2017-12-08', 41.13, 41.45, 40.99, 41.22, None, 1289642.0, 53150892.0, None, None, None], ['2017-12-07', 40.74, 41.23, 40.57, 40.84, None, 1376033.0, 56276968.0, None, None, None], ['2017-12-06', 40.54, 40.64, 40.165, 40.6, None, 1205912.0, 48764021.0, None, None, None], ['2017-12-05', 40.05, 40.775, 39.97, 40.665, None, 1948545.0, 78968966.0, None, None, None], ['2017-12-04', 39.79, 40.11, 39.585, 39.77, None, 1321182.0, 52627362.0, None, None, None], ['2017-12-01', 39.545, 39.845, 39.35, 39.44, None, 1495815.0, 59136311.0, None, None, None], ['2017-11-30', 38.95, 39.7, 38.915, 39.545, None, 3040962.0, 120157342.0, None, None, None], ['2017-11-29', 39.95, 40.025, 38.91, 39.025, None, 1493605.0, 58739775.0, None, None, None], ['2017-11-28', 39.825, 39.905, 39.5, 39.7, None, 1018883.0, 40423811.0, None, None, None], ['2017-11-27', 39.7, 40.04, 39.63, 39.8, None, 1095660.0, 43654747.0, None, None, None], ['2017-11-24', 39.595, 39.92, 39.355, 39.65, None, 999933.0, 39641078.0, None, None, None], ['2017-11-23', 39.275, 39.62, 39.21, 39.52, None, 1161907.0, 45849993.0, None, None, None], ['2017-11-22', 39.955, 40.03, 39.365, 39.365, None, 985055.0, 39043700.0, None, None, None], ['2017-11-21', 39.445, 40.23, 39.33, 39.93, None, 1531366.0, 61107977.0, None, None, None], ['2017-11-20', 39.245, 39.43, 39.14, 39.3, None, 1057105.0, 41546170.0, None, None, None], ['2017-11-17', 39.7, 39.79, 39.375, 39.375, None, 1048127.0, 41459027.0, None, None, None], ['2017-11-16', 39.45, 39.785, 39.3, 39.705, None, 1010748.0, 40046253.0, None, None, None], ['2017-11-15', 39.495, 39.495, 38.77, 39.265, None, 1408279.0, 55104780.0, None, None, None], ['2017-11-14', 39.53, 39.63, 39.285, 39.5, None, 1103999.0, 43589611.0, None, None, None], ['2017-11-13', 39.26, 39.465, 39.01, 39.43, None, 1423857.0, 55975814.0, None, None, None], ['2017-11-10', 39.24, 39.445, 38.935, 39.145, None, 2133301.0, 83564952.0, None, None, None], ['2017-11-09', 39.245, 39.29, 38.805, 39.115, None, 1762497.0, 68815373.0, None, None, None], ['2017-11-08', 39.22, 39.54, 38.205, 39.165, None, 1841312.0, 72049610.0, None, None, None], ['2017-11-07', 39.0, 39.165, 38.73, 39.05, None, 1378274.0, 53770377.0, None, None, None], ['2017-11-06', 38.8, 38.975, 38.68, 38.81, None, 773139.0, 30002877.0, None, None, None], ['2017-11-03', 38.72, 38.815, 38.55, 38.73, None, 1147296.0, 44421907.0, None, None, None], ['2017-11-02', 38.165, 38.69, 38.145, 38.49, None, 1744271.0, 67156177.0, None, None, None], ['2017-11-01', 38.1, 38.315, 37.54, 38.2, None, 1810355.0, 69008167.0, None, None, None], ['2017-10-30', 37.32, 37.76, 37.25, 37.76, None, 1259359.0, 47379195.0, None, None, None], ['2017-10-27', 36.9, 37.33, 36.79, 37.18, None, 1362626.0, 50636915.0, None, None, None], ['2017-10-26', 36.425, 36.775, 36.355, 36.67, None, 1773417.0, 64876374.0, None, None, None], ['2017-10-25', 36.5, 36.54, 36.21, 36.28, None, 1146901.0, 41641699.0, None, None, None], ['2017-10-24', 36.755, 37.1, 36.515, 36.64, None, 1182044.0, 43411836.0, None, None, None], ['2017-10-23', 37.63, 37.635, 36.855, 36.875, None, 1281333.0, 47497515.0, None, None, None], ['2017-10-20', 37.93, 37.96, 37.27, 37.45, None, 1180003.0, 44288477.0, None, None, None], ['2017-10-19', 37.885, 38.13, 37.55, 37.77, None, 1481919.0, 55992823.0, None, None, None], ['2017-10-18', 37.285, 37.835, 37.2, 37.685, None, 1179431.0, 44414462.0, None, None, None], ['2017-10-17', 37.19, 37.25, 36.99, 37.125, None, 959055.0, 35623810.0, None, None, None], ['2017-10-16', 36.91, 37.145, 36.695, 37.12, None, 796432.0, 29483832.0, None, None, None], ['2017-10-13', 36.93, 36.955, 36.665, 36.77, None, 1030081.0, 37900999.0, None, None, None], ['2017-10-12', 36.5, 36.995, 36.425, 36.88, None, 1131777.0, 41704147.0, None, None, None], ['2017-10-11', 36.28, 36.49, 36.095, 36.45, None, 741342.0, 26962219.0, None, None, None], ['2017-10-10', 36.36, 36.5, 36.08, 36.31, None, 1184571.0, 43063747.0, None, None, None], ['2017-10-09', 36.045, 36.145, 35.895, 36.125, None, 798410.0, 28795537.0, None, None, None], ['2017-10-06', 36.55, 36.585, 35.885, 35.97, None, 1780610.0, 64285160.0, None, None, None], ['2017-10-05', 36.82, 36.84, 36.35, 36.56, None, 1088678.0, 39791298.0, None, None, None], ['2017-10-04', 36.435, 36.945, 36.135, 36.745, None, 2021500.0, 74201081.0, None, None, None], ['2017-10-02', 36.17, 36.325, 36.0, 36.235, None, 981385.0, 35516802.0, None, None, None], ['2017-09-29', 35.845, 36.01, 35.75, 36.0, None, 1574374.0, 56587390.0, None, None, None], ['2017-09-28', 35.85, 35.885, 35.455, 35.805, None, 1391082.0, 49641573.0, None, None, None], ['2017-09-27', 36.4, 36.4, 35.675, 35.7, None, 1265947.0, 45369154.0, None, None, None], ['2017-09-26', 35.82, 36.515, 35.805, 36.25, None, 1461266.0, 53049635.0, None, None, None], ['2017-09-25', 35.505, 35.93, 35.45, 35.795, None, 864934.0, 30942056.0, None, None, None], ['2017-09-22', 35.41, 35.66, 35.32, 35.505, None, 848527.0, 30112639.0, None, None, None], ['2017-09-21', 35.815, 35.815, 35.35, 35.45, None, 1169809.0, 41477784.0, None, None, None], ['2017-09-20', 35.91, 36.01, 35.7, 35.91, None, 772531.0, 27712890.0, None, None, None], ['2017-09-19', 36.215, 36.26, 35.915, 35.97, None, 867630.0, 31271571.0, None, None, None], ['2017-09-18', 36.635, 36.69, 36.2, 36.22, None, 897147.0, 32668669.0, None, None, None], ['2017-09-15', 36.5, 36.52, 36.125, 36.435, None, 3900972.0, 142003486.0, None, None, None], ['2017-09-14', 36.395, 36.625, 36.275, 36.41, None, 1326481.0, 48313680.0, None, None, None], ['2017-09-13', 36.365, 36.575, 36.25, 36.48, None, 1222826.0, 44582558.0, None, None, None], ['2017-09-12', 36.48, 36.595, 36.36, 36.475, None, 1132496.0, 41307182.0, None, None, None], ['2017-09-11', 36.375, 36.52, 36.255, 36.4, None, 873615.0, 31805844.0, None, None, None], ['2017-09-08', 35.935, 36.305, 35.935, 36.195, None, 980317.0, 35462482.0, None, None, None], ['2017-09-07', 35.8, 35.995, 35.585, 35.935, None, 1244383.0, 44616052.0, None, None, None], ['2017-09-06', 35.0, 35.675, 34.925, 35.55, None, 1262464.0, 44764575.0, None, None, None], ['2017-09-05', 35.425, 35.455, 35.01, 35.195, None, 843906.0, 29727013.0, None, None, None], ['2017-09-04', 35.13, 35.385, 35.1, 35.3, None, 556925.0, 19645220.0, None, None, None], ['2017-09-01', 35.605, 35.685, 35.36, 35.42, None, 786143.0, 27887648.0, None, None, None], ['2017-08-31', 35.435, 35.69, 35.435, 35.505, None, 1190945.0, 42323783.0, None, None, None], ['2017-08-30', 35.16, 35.5, 35.005, 35.285, None, 1117782.0, 39481349.0, None, None, None], ['2017-08-29', 34.885, 35.07, 34.76, 34.945, None, 1153084.0, 40294995.0, None, None, None], ['2017-08-28', 35.02, 35.095, 34.765, 35.035, None, 575476.0, 20128131.0, None, None, None], ['2017-08-25', 35.25, 35.31, 34.985, 35.065, None, 978790.0, 34347195.0, None, None, None], ['2017-08-24', 35.25, 35.525, 35.21, 35.21, None, 808758.0, 28566900.0, None, None, None], ['2017-08-23', 35.445, 35.49, 35.185, 35.265, None, 762435.0, 26899770.0, None, None, None], ['2017-08-22', 35.45, 35.605, 35.4, 35.405, None, 765764.0, 27158693.0, None, None, None], ['2017-08-21', 35.115, 35.36, 34.97, 35.305, None, 778364.0, 27429654.0, None, None, None], ['2017-08-18', 35.305, 35.48, 35.19, 35.255, None, 1156950.0, 40858779.0, None, None, None], ['2017-08-17', 35.425, 35.81, 35.425, 35.49, None, 948061.0, 33743508.0, None, None, None], ['2017-08-16', 35.73, 35.925, 35.41, 35.47, None, 912185.0, 32414293.0, None, None, None], ['2017-08-15', 35.76, 35.885, 35.445, 35.605, None, 1031791.0, 36719404.0, None, None, None], ['2017-08-14', 35.275, 35.89, 35.2, 35.7, None, 1268298.0, 45247331.0, None, None, None], ['2017-08-11', 35.5, 35.64, 34.88, 35.09, None, 1376672.0, 48398546.0, None, None, None], ['2017-08-10', 35.64, 35.7, 35.315, 35.55, None, 954629.0, 33905737.0, None, None, None], ['2017-08-09', 35.54, 35.81, 35.415, 35.64, None, 1032164.0, 36780128.0, None, None, None], ['2017-08-08', 35.565, 35.79, 35.405, 35.71, None, 813306.0, 28992490.0, None, None, None], ['2017-08-07', 36.0, 36.0, 35.4, 35.625, None, 993748.0, 35384039.0, None, None, None], ['2017-08-04', 35.58, 36.005, 35.56, 35.9, None, 1048069.0, 37610121.0, None, None, None], ['2017-08-03', 35.4, 35.845, 35.335, 35.585, None, 1232461.0, 43873041.0, None, None, None], ['2017-08-02', 35.5, 35.77, 35.23, 35.44, None, 2159905.0, 76652742.0, None, None, None], ['2017-08-01', 34.185, 35.03, 34.185, 35.015, None, 1428589.0, 49719043.0, None, None, None], ['2017-07-31', 34.525, 34.625, 34.255, 34.255, None, 1226265.0, 42149590.0, None, None, None], ['2017-07-28', 34.91, 34.91, 34.32, 34.56, None, 1291761.0, 44621693.0, None, None, None], ['2017-07-27', 34.48, 35.345, 34.48, 35.005, None, 1345183.0, 47108133.0, None, None, None], ['2017-07-26', 34.315, 34.55, 34.19, 34.49, None, 1100747.0, 37890368.0, None, None, None], ['2017-07-25', 34.465, 34.57, 34.275, 34.39, None, 831703.0, 28627354.0, None, None, None], ['2017-07-24', 34.475, 34.705, 34.295, 34.38, None, 1065404.0, 36708290.0, None, None, None], ['2017-07-21', 34.42, 34.65, 34.275, 34.465, None, 1219659.0, 42017779.0, None, None, None], ['2017-07-20', 34.67, 34.845, 34.38, 34.43, None, 1120392.0, 38692096.0, None, None, None], ['2017-07-19', 34.585, 34.675, 34.425, 34.555, None, 933429.0, 32231381.0, None, None, None], ['2017-07-18', 34.575, 34.78, 34.48, 34.595, None, 1178023.0, 40774008.0, None, None, None], ['2017-07-17', 35.05, 35.125, 34.55, 34.65, None, 994306.0, 34508852.0, None, None, None], ['2017-07-14', 34.9, 35.175, 34.715, 35.01, None, 1164391.0, 40704830.0, None, None, None], ['2017-07-13', 34.87, 34.995, 34.7, 34.84, None, 909972.0, 31695835.0, None, None, None], ['2017-07-12', 34.16, 34.92, 34.13, 34.815, None, 1203034.0, 41655881.0, None, None, None], ['2017-07-11', 34.59, 34.59, 33.96, 34.17, None, 1193468.0, 40775450.0, None, None, None], ['2017-07-10', 34.145, 34.585, 34.145, 34.43, None, 1113906.0, 38372776.0, None, None, None], ['2017-07-07', 34.07, 34.08, 33.78, 33.95, None, 1155041.0, 39171093.0, None, None, None], ['2017-07-06', 34.525, 34.59, 33.74, 34.1, None, 1661288.0, 56571459.0, None, None, None], ['2017-07-05', 34.34, 34.45, 34.055, 34.445, None, 907138.0, 31133385.0, None, None, None], ['2017-07-04', 34.415, 34.54, 34.25, 34.405, None, 929186.0, 31955883.0, None, None, None], ['2017-07-03', 34.895, 34.91, 34.3, 34.53, None, 1081145.0, 37334057.0, None, None, None], ['2017-06-30', 34.49, 34.83, 34.205, 34.765, None, 1743689.0, 60419168.0, None, None, None], ['2017-06-29', 34.92, 35.215, 34.215, 34.545, None, 1702233.0, 58941623.0, None, None, None], ['2017-06-28', 34.96, 35.15, 34.6, 34.8, None, 1352427.0, 47155417.0, None, None, None], ['2017-06-27', 35.5, 35.59, 35.04, 35.125, None, 971323.0, 34191541.0, None, None, None], ['2017-06-26', 35.64, 35.78, 35.45, 35.5, None, 711806.0, 25324155.0, None, None, None], ['2017-06-23', 35.375, 35.74, 35.365, 35.6, None, 605987.0, 21578659.0, None, None, None], ['2017-06-22', 35.52, 35.555, 34.55, 35.4, None, 1133172.0, 40077360.0, None, None, None], ['2017-06-21', 35.995, 35.995, 35.42, 35.5, None, 1109333.0, 39488323.0, None, None, None], ['2017-06-20', 36.38, 36.385, 35.86, 35.965, None, 1102387.0, 39733201.0, None, None, None], ['2017-06-19', 36.45, 36.565, 36.155, 36.27, None, 751509.0, 27310028.0, None, None, None], ['2017-06-16', 36.285, 36.495, 36.035, 36.35, None, 2708923.0, 98420026.0, None, None, None], ['2017-06-15', 36.345, 36.7, 36.125, 36.185, None, 1394942.0, 50666215.0, None, None, None], ['2017-06-14', 35.95, 36.47, 35.81, 36.275, None, 1474349.0, 53508257.0, None, None, None], ['2017-06-13', 35.775, 36.085, 35.65, 35.83, None, 899809.0, 32285012.0, None, None, None], ['2017-06-12', 35.905, 36.0, 35.405, 35.61, None, 964494.0, 34340062.0, None, None, None], ['2017-06-09', 35.8, 36.03, 35.67, 35.995, None, 855293.0, 30725496.0, None, None, None], ['2017-06-08', 36.26, 36.43, 35.855, 35.89, None, 910894.0, 32860828.0, None, None, None], ['2017-06-07', 36.165, 36.56, 36.06, 36.28, None, 1522772.0, 55358099.0, None, None, None], ['2017-06-06', 35.87, 36.25, 35.535, 36.18, None, 2249405.0, 80988781.0, None, None, None], ['2017-06-02', 35.4, 35.915, 35.32, 35.905, None, 1509212.0, 53890609.0, None, None, None], ['2017-06-01', 34.805, 35.625, 34.635, 35.4, None, 2670943.0, 94268991.0, None, None, None], ['2017-05-31', 34.97, 35.275, 34.895, 34.975, None, 1606543.0, 56280617.0, None, None, None], ['2017-05-30', 34.815, 35.245, 34.745, 35.03, None, 1040767.0, 36479165.0, None, None, None], ['2017-05-29', 35.05, 35.065, 34.77, 34.85, None, 479585.0, 16721712.0, None, None, None], ['2017-05-26', 34.99, 35.28, 34.81, 34.98, None, 1060107.0, 37132136.0, None, None, None], ['2017-05-25', 35.1, 35.25, 34.835, 34.965, None, 744523.0, 26040310.0, None, None, None], ['2017-05-24', 34.955, 35.015, 34.305, 34.92, None, 1710780.0, 59474808.0, None, None, None], ['2017-05-23', 34.83, 34.87, 34.28, 34.495, None, 1399576.0, 48264736.0, None, None, None], ['2017-05-22', 34.39, 34.94, 34.38, 34.825, None, 1222210.0, 42488151.0, None, None, None], ['2017-05-19', 34.37, 34.73, 34.27, 34.35, None, 1819807.0, 62695579.0, None, None, None], ['2017-05-18', 34.45, 34.82, 34.185, 34.34, None, 2155789.0, 74159697.0, None, None, None], ['2017-05-17', 34.57, 34.78, 34.255, 34.66, None, 1915980.0, 66259874.0, None, None, None], ['2017-05-16', 35.655, 35.965, 35.54, 35.865, None, 1829267.0, 65483151.0, None, None, None], ['2017-05-15', 36.1, 36.185, 35.445, 35.655, None, 1621456.0, 57963632.0, None, None, None], ['2017-05-12', 35.55, 35.95, 35.505, 35.95, None, 2399764.0, 86010930.0, None, None, None], ['2017-05-11', 34.82, 35.765, 34.78, 35.55, None, 3126178.0, 110720040.0, None, None, None], ['2017-05-10', 34.65, 34.785, 34.415, 34.785, None, 1419844.0, 49222455.0, None, None, None], ['2017-05-09', 34.48, 34.97, 34.35, 34.64, None, 1750992.0, 60807785.0, None, None, None], ['2017-05-08', 34.15, 34.775, 34.15, 34.47, None, 1968354.0, 67951441.0, None, None, None], ['2017-05-05', 33.83, 34.145, 33.675, 34.085, None, 1485165.0, 50496085.0, None, None, None], ['2017-05-04', 33.685, 33.99, 33.42, 33.835, None, 1603664.0, 54226513.0, None, None, None], ['2017-05-03', 33.595, 33.765, 33.465, 33.59, None, 1248177.0, 41940157.0, None, None, None], ['2017-05-02', 33.39, 33.64, 33.045, 33.57, None, 2020909.0, 67578132.0, None, None, None], ['2017-04-28', 33.965, 33.965, 33.125, 33.235, None, 2250037.0, 74945444.0, None, None, None], ['2017-04-27', 33.75, 34.0, 33.615, 33.85, None, 1189265.0, 40232795.0, None, None, None], ['2017-04-26', 33.775, 33.985, 33.44, 33.89, None, 1173019.0, 39739022.0, None, None, None], ['2017-04-25', 33.43, 34.135, 33.33, 33.89, None, 1668864.0, 56484780.0, None, None, None], ['2017-04-24', 33.505, 33.61, 33.225, 33.38, None, 2505690.0, 83631889.0, None, None, None], ['2017-04-21', 33.645, 33.755, 33.195, 33.505, None, 1830004.0, 61197812.0, None, None, None], ['2017-04-20', 34.125, 34.175, 33.66, 33.7, None, 1464324.0, 49521743.0, None, None, None], ['2017-04-19', 34.315, 34.34, 33.98, 34.16, None, 1497935.0, 51127941.0, None, None, None], ['2017-04-18', 34.42, 34.585, 34.105, 34.375, None, 1456744.0, 49993484.0, None, None, None], ['2017-04-13', 34.3, 34.55, 34.25, 34.55, None, 1130793.0, 39005532.0, None, None, None], ['2017-04-12', 34.155, 34.525, 34.1, 34.355, None, 1418600.0, 48742545.0, None, None, None], ['2017-04-11', 33.905, 34.175, 33.89, 34.15, None, 1334812.0, 45501164.0, None, None, None], ['2017-04-10', 33.9, 33.95, 33.605, 33.945, None, 976008.0, 33022431.0, None, None, None], ['2017-04-07', 33.555, 33.89, 33.55, 33.81, None, 1245354.0, 42058867.0, None, None, None], ['2017-04-06', 33.44, 33.88, 33.44, 33.655, None, 1279422.0, 43062063.0, None, None, None], ['2017-04-05', 33.595, 33.67, 33.405, 33.51, None, 1247907.0, 41841367.0, None, None, None], ['2017-04-04', 33.14, 33.625, 33.12, 33.52, None, 1412273.0, 47301542.0, None, None, None], ['2017-04-03', 33.2, 33.2, 32.95, 33.185, None, 1098924.0, 36377790.0, None, None, None], ['2017-03-31', 32.585, 33.045, 32.55, 33.03, None, 1400053.0, 46049974.0, None, None, None], ['2017-03-30', 32.8, 32.805, 32.555, 32.715, None, 1138883.0, 37212643.0, None, None, None], ['2017-03-29', 32.45, 32.765, 32.295, 32.765, None, 1366373.0, 44540644.0, None, None, None], ['2017-03-28', 32.67, 32.765, 32.32, 32.46, None, 1358644.0, 44132290.0, None, None, None], ['2017-03-27', 32.6, 32.77, 32.405, 32.595, None, 990944.0, 32283093.0, None, None, None], ['2017-03-24', 32.52, 32.76, 32.485, 32.68, None, 948258.0, 30996490.0, None, None, None], ['2017-03-23', 32.445, 32.59, 32.32, 32.59, None, 1372593.0, 44624296.0, None, None, None], ['2017-03-22', 32.395, 32.61, 32.395, 32.445, None, 1331064.0, 43221125.0, None, None, None], ['2017-03-21', 32.58, 32.58, 32.4, 32.505, None, 1034376.0, 33593372.0, None, None, None], ['2017-03-20', 32.645, 32.745, 32.52, 32.55, None, 933804.0, 30443315.0, None, None, None], ['2017-03-17', 32.525, 32.745, 32.38, 32.71, None, 2486474.0, 81149012.0, None, None, None], ['2017-03-16', 32.49, 32.65, 32.43, 32.585, None, 2091661.0, 68106355.0, None, None, None], ['2017-03-15', 32.27, 32.27, 31.985, 32.215, None, 1154450.0, 37132114.0, None, None, None], ['2017-03-14', 32.025, 32.29, 31.92, 32.185, None, 1367474.0, 43883777.0, None, None, None], ['2017-03-13', 32.0, 32.28, 32.0, 32.1, None, 1344172.0, 43149844.0, None, None, None], ['2017-03-10', 32.765, 32.765, 32.005, 32.05, None, 2805533.0, 90397453.0, None, None, None], ['2017-03-09', 32.55, 32.87, 32.43, 32.655, None, 1521825.0, 49731230.0, None, None, None], ['2017-03-08', 32.59, 32.59, 32.27, 32.55, None, 1583434.0, 51386372.0, None, None, None], ['2017-03-07', 32.8, 33.18, 32.435, 32.62, None, 2264252.0, 74099675.0, None, None, None], ['2017-03-06', 32.665, 32.905, 32.575, 32.895, None, 1485150.0, 48649782.0, None, None, None], ['2017-03-03', 33.025, 33.04, 32.66, 32.82, None, 1780099.0, 58419579.0, None, None, None], ['2017-03-02', 33.095, 33.15, 32.89, 33.1, None, 1392995.0, 46026980.0, None, None, None], ['2017-03-01', 33.0, 33.09, 32.81, 33.06, None, 1587643.0, 52361412.0, None, None, None], ['2017-02-28', 33.025, 33.18, 32.625, 32.89, None, 2165586.0, 71214194.0, None, None, None], ['2017-02-27', 33.31, 33.315, 32.87, 33.04, None, 1242571.0, 41015807.0, None, None, None], ['2017-02-24', 33.35, 33.46, 33.085, 33.25, None, 1569880.0, 52174520.0, None, None, None], ['2017-02-23', 33.345, 33.405, 33.15, 33.35, None, 1112515.0, 37041481.0, None, None, None], ['2017-02-22', 33.0, 33.485, 32.97, 33.31, None, 1981963.0, 65992846.0, None, None, None], ['2017-02-21', 32.78, 33.075, 32.75, 32.95, None, 1321345.0, 43526332.0, None, None, None], ['2017-02-20', 33.0, 33.05, 32.835, 32.86, None, 701112.0, 23076010.0, None, None, None], ['2017-02-17', 32.83, 33.065, 32.62, 32.88, None, 1609227.0, 52901994.0, None, None, None], ['2017-02-16', 32.76, 32.94, 32.6, 32.865, None, 1368754.0, 44911948.0, None, None, None], ['2017-02-15', 32.615, 32.885, 32.535, 32.86, None, 1999129.0, 65480253.0, None, None, None], ['2017-02-14', 32.35, 32.515, 32.145, 32.505, None, 1588415.0, 51460458.0, None, None, None], ['2017-02-13', 32.355, 32.395, 32.15, 32.18, None, 1471864.0, 47486838.0, None, None, None], ['2017-02-10', 32.255, 32.29, 32.06, 32.29, None, 1471607.0, 47422355.0, None, None, None], ['2017-02-09', 32.365, 32.385, 31.935, 32.2, None, 2312232.0, 74509222.0, None, None, None], ['2017-02-08', 31.32, 32.32, 31.215, 32.2, None, 2809351.0, 89874852.0, None, None, None], ['2017-02-07', 30.67, 31.375, 30.59, 31.355, None, 1724119.0, 53663330.0, None, None, None], ['2017-02-06', 30.665, 30.835, 30.55, 30.58, None, 1514442.0, 46432461.0, None, None, None], ['2017-02-03', 30.795, 31.015, 30.66, 30.78, None, 1105674.0, 34038970.0, None, None, None], ['2017-02-02', 30.765, 30.915, 30.605, 30.665, None, 1362135.0, 41892577.0, None, None, None], ['2017-02-01', 30.63, 30.95, 30.505, 30.755, None, 1953175.0, 60079315.0, None, None, None], ['2017-01-31', 30.01, 30.365, 29.905, 30.27, None, 1571973.0, 47483499.0, None, None, None], ['2017-01-30', 30.05, 30.19, 29.745, 30.06, None, 1261362.0, 37810228.0, None, None, None], ['2017-01-27', 30.045, 30.08, 29.73, 30.015, None, 1361939.0, 40718988.0, None, None, None], ['2017-01-26', 30.07, 30.12, 29.81, 29.985, None, 1881781.0, 56384464.0, None, None, None], ['2017-01-25', 30.11, 30.145, 29.825, 29.955, None, 1918842.0, 57497812.0, None, None, None], ['2017-01-24', 30.46, 30.515, 30.05, 30.05, None, 1782575.0, 53883315.0, None, None, None], ['2017-01-23', 30.445, 30.555, 30.15, 30.385, None, 1923439.0, 58375436.0, None, None, None], ['2017-01-20', 30.42, 30.54, 30.005, 30.38, None, 1727697.0, 52422042.0, None, None, None], ['2017-01-19', 30.955, 30.955, 30.345, 30.45, None, 1737477.0, 53047844.0, None, None, None], ['2017-01-18', 30.95, 31.065, 30.775, 30.995, None, 1194228.0, 36964666.0, None, None, None], ['2017-01-17', 31.165, 31.17, 30.79, 30.9, None, 1208729.0, 37359507.0, None, None, None], ['2017-01-16', 30.93, 31.35, 30.93, 31.19, None, 920478.0, 28727634.0, None, None, None], ['2017-01-13', 31.215, 31.38, 30.88, 30.95, None, 1134887.0, 35256121.0, None, None, None], ['2017-01-12', 31.4, 31.44, 31.095, 31.16, None, 1269233.0, 39595118.0, None, None, None], ['2017-01-11', 31.39, 31.535, 31.255, 31.4, None, 1181293.0, 37089422.0, None, None, None], ['2017-01-10', 31.09, 31.525, 31.02, 31.475, None, 1241573.0, 38995926.0, None, None, None], ['2017-01-09', 31.38, 31.475, 31.025, 31.025, None, 1007257.0, 31355905.0, None, None, None], ['2017-01-06', 31.425, 31.75, 31.175, 31.25, None, 1236453.0, 38846256.0, None, None, None], ['2017-01-05', 31.065, 31.45, 31.03, 31.405, None, 1652789.0, 51686972.0, None, None, None], ['2017-01-04', 30.85, 30.96, 30.44, 30.8, None, 1265640.0, 38936241.0, None, None, None], ['2017-01-03', 31.48, 31.48, 30.745, 30.8, None, 1613584.0, 49922671.0, None, None, None], ['2017-01-02', 31.05, 31.48, 30.865, 31.35, None, 574317.0, 17953577.0, None, None, None]]\n"
     ]
    }
   ],
   "source": [
    "dataset = json['dataset']['data']\n",
    "print(dataset)"
   ]
  },
  {
   "cell_type": "code",
   "execution_count": 88,
   "metadata": {},
   "outputs": [],
   "source": [
    "#3. Calculate what the highest and lowest opening prices were for the stock in this period.\n",
    "open_prices = {}\n",
    "for data in dataset:\n",
    "    open_prices[data[0]] = data[1]\n",
    "open_max = max(open_prices, key=open_prices.get), ':', max(open_prices.values())\n",
    "open_min = min(open_prices, key=open_prices.get), ':', min(open_prices.values())"
   ]
  },
  {
   "cell_type": "code",
   "execution_count": 89,
   "metadata": {},
   "outputs": [
    {
     "name": "stdout",
     "output_type": "stream",
     "text": [
      "('2017-12-19', ':', 41.95)\n",
      "('2017-01-31', ':', 30.01)\n"
     ]
    }
   ],
   "source": [
    "print(open_max)\n",
    "print(open_min)"
   ]
  },
  {
   "cell_type": "code",
   "execution_count": 92,
   "metadata": {},
   "outputs": [
    {
     "name": "stdout",
     "output_type": "stream",
     "text": [
      "('2017-11-08', ':', 1.3350000000000009)\n"
     ]
    }
   ],
   "source": [
    "#4. What was the largest change in any one day (based on High and Low price)?\n",
    "change_in_day = {}\n",
    "for data in dataset:\n",
    "    change_in_day[data[0]] = data[2] - data[3]\n",
    "max_change_in_day = max(change_in_day, key=change_in_day.get), ':', max(change_in_day.values())\n",
    "print(max_change_in_day)"
   ]
  },
  {
   "cell_type": "code",
   "execution_count": 97,
   "metadata": {},
   "outputs": [
    {
     "name": "stdout",
     "output_type": "stream",
     "text": [
      "(('2017-05-17', 'to', '2017-05-16'), ':', 1.2050000000000054)\n"
     ]
    }
   ],
   "source": [
    "#5. What was the largest change between any two days (based on Closing Price)?\n",
    "change_btw_days = {}\n",
    "for i in range(len(dataset) - 1):\n",
    "    change_btw_days[dataset[i][0], 'to', dataset[i+1][0]] = abs(dataset[i][4] - dataset[i+1][4])\n",
    "max_change_btw_days = max(change_btw_days, key=change_btw_days.get), \":\", max(change_btw_days.values())\n",
    "print(max_change_btw_days)"
   ]
  },
  {
   "cell_type": "code",
   "execution_count": 104,
   "metadata": {},
   "outputs": [
    {
     "name": "stdout",
     "output_type": "stream",
     "text": [
      "1356351.1746031747\n"
     ]
    }
   ],
   "source": [
    "#6. What was the average daily trading volume during this year?\n",
    "volumes = []\n",
    "for data in dataset:\n",
    "    volumes.append(data[6])\n",
    "total_vol = sum(volumes)\n",
    "trading_days = len(volumes)\n",
    "average_vol = total_vol / trading_days\n",
    "print(average_vol)"
   ]
  },
  {
   "cell_type": "code",
   "execution_count": 116,
   "metadata": {},
   "outputs": [
    {
     "name": "stdout",
     "output_type": "stream",
     "text": [
      "1253768.0\n"
     ]
    }
   ],
   "source": [
    "#7. Optional) What was the median trading volume during this year. (Note: you may need to implement your own function for calculating the median.)\n",
    "volumes.sort()\n",
    "median = (volumes[int(len(volumes)/ 2)] + volumes[int(len(volumes) / 2) - 1]) / 2\n",
    "print(median)\n"
   ]
  },
  {
   "cell_type": "code",
   "execution_count": 117,
   "metadata": {},
   "outputs": [
    {
     "data": {
      "text/plain": [
       "[479585.0,\n",
       " 556925.0,\n",
       " 574317.0,\n",
       " 575476.0,\n",
       " 601057.0,\n",
       " 605987.0,\n",
       " 608053.0,\n",
       " 701112.0,\n",
       " 711806.0,\n",
       " 732911.0,\n",
       " 741342.0,\n",
       " 744523.0,\n",
       " 751509.0,\n",
       " 762435.0,\n",
       " 765764.0,\n",
       " 772531.0,\n",
       " 773139.0,\n",
       " 778364.0,\n",
       " 786143.0,\n",
       " 796432.0,\n",
       " 798410.0,\n",
       " 808758.0,\n",
       " 813306.0,\n",
       " 831703.0,\n",
       " 843468.0,\n",
       " 843906.0,\n",
       " 848527.0,\n",
       " 855293.0,\n",
       " 864934.0,\n",
       " 867630.0,\n",
       " 873615.0,\n",
       " 897147.0,\n",
       " 899809.0,\n",
       " 907138.0,\n",
       " 909972.0,\n",
       " 910894.0,\n",
       " 912185.0,\n",
       " 920478.0,\n",
       " 929186.0,\n",
       " 933429.0,\n",
       " 933804.0,\n",
       " 948061.0,\n",
       " 948258.0,\n",
       " 954629.0,\n",
       " 959055.0,\n",
       " 964494.0,\n",
       " 971323.0,\n",
       " 976008.0,\n",
       " 978790.0,\n",
       " 980317.0,\n",
       " 981385.0,\n",
       " 985055.0,\n",
       " 990944.0,\n",
       " 993748.0,\n",
       " 994306.0,\n",
       " 999933.0,\n",
       " 1007257.0,\n",
       " 1010748.0,\n",
       " 1018883.0,\n",
       " 1030081.0,\n",
       " 1031791.0,\n",
       " 1032164.0,\n",
       " 1034376.0,\n",
       " 1036110.0,\n",
       " 1040767.0,\n",
       " 1043727.0,\n",
       " 1048069.0,\n",
       " 1048127.0,\n",
       " 1057105.0,\n",
       " 1060107.0,\n",
       " 1065404.0,\n",
       " 1081145.0,\n",
       " 1088678.0,\n",
       " 1095660.0,\n",
       " 1098924.0,\n",
       " 1100747.0,\n",
       " 1102387.0,\n",
       " 1103999.0,\n",
       " 1105674.0,\n",
       " 1109333.0,\n",
       " 1112515.0,\n",
       " 1113906.0,\n",
       " 1117782.0,\n",
       " 1120392.0,\n",
       " 1130793.0,\n",
       " 1131777.0,\n",
       " 1132496.0,\n",
       " 1133172.0,\n",
       " 1134887.0,\n",
       " 1138883.0,\n",
       " 1146901.0,\n",
       " 1147296.0,\n",
       " 1153084.0,\n",
       " 1154450.0,\n",
       " 1155041.0,\n",
       " 1156950.0,\n",
       " 1161907.0,\n",
       " 1164391.0,\n",
       " 1169809.0,\n",
       " 1173019.0,\n",
       " 1178023.0,\n",
       " 1179431.0,\n",
       " 1180003.0,\n",
       " 1181293.0,\n",
       " 1182044.0,\n",
       " 1184571.0,\n",
       " 1189265.0,\n",
       " 1190945.0,\n",
       " 1193468.0,\n",
       " 1194228.0,\n",
       " 1203034.0,\n",
       " 1205912.0,\n",
       " 1208729.0,\n",
       " 1219659.0,\n",
       " 1222210.0,\n",
       " 1222826.0,\n",
       " 1226265.0,\n",
       " 1232461.0,\n",
       " 1236453.0,\n",
       " 1241573.0,\n",
       " 1242571.0,\n",
       " 1243035.0,\n",
       " 1244383.0,\n",
       " 1245354.0,\n",
       " 1247907.0,\n",
       " 1248177.0,\n",
       " 1259359.0,\n",
       " 1261362.0,\n",
       " 1262464.0,\n",
       " 1265640.0,\n",
       " 1265947.0,\n",
       " 1268298.0,\n",
       " 1269233.0,\n",
       " 1279422.0,\n",
       " 1281333.0,\n",
       " 1289642.0,\n",
       " 1291761.0,\n",
       " 1314959.0,\n",
       " 1321182.0,\n",
       " 1321345.0,\n",
       " 1326481.0,\n",
       " 1331064.0,\n",
       " 1334812.0,\n",
       " 1344172.0,\n",
       " 1345183.0,\n",
       " 1352427.0,\n",
       " 1358644.0,\n",
       " 1361939.0,\n",
       " 1362135.0,\n",
       " 1362626.0,\n",
       " 1366373.0,\n",
       " 1367474.0,\n",
       " 1368754.0,\n",
       " 1372593.0,\n",
       " 1376033.0,\n",
       " 1376672.0,\n",
       " 1378274.0,\n",
       " 1384516.0,\n",
       " 1391082.0,\n",
       " 1392995.0,\n",
       " 1394942.0,\n",
       " 1399576.0,\n",
       " 1400053.0,\n",
       " 1408279.0,\n",
       " 1411562.0,\n",
       " 1412273.0,\n",
       " 1418600.0,\n",
       " 1419844.0,\n",
       " 1423857.0,\n",
       " 1428589.0,\n",
       " 1456744.0,\n",
       " 1461266.0,\n",
       " 1464324.0,\n",
       " 1471607.0,\n",
       " 1471864.0,\n",
       " 1474349.0,\n",
       " 1477381.0,\n",
       " 1481919.0,\n",
       " 1485150.0,\n",
       " 1485165.0,\n",
       " 1493605.0,\n",
       " 1495815.0,\n",
       " 1497935.0,\n",
       " 1509212.0,\n",
       " 1514442.0,\n",
       " 1521825.0,\n",
       " 1522772.0,\n",
       " 1531366.0,\n",
       " 1569880.0,\n",
       " 1571973.0,\n",
       " 1574374.0,\n",
       " 1583434.0,\n",
       " 1587643.0,\n",
       " 1588415.0,\n",
       " 1603664.0,\n",
       " 1606543.0,\n",
       " 1609227.0,\n",
       " 1613584.0,\n",
       " 1621456.0,\n",
       " 1652789.0,\n",
       " 1661288.0,\n",
       " 1668864.0,\n",
       " 1702233.0,\n",
       " 1710780.0,\n",
       " 1724119.0,\n",
       " 1727697.0,\n",
       " 1737477.0,\n",
       " 1743689.0,\n",
       " 1744271.0,\n",
       " 1750992.0,\n",
       " 1762497.0,\n",
       " 1773417.0,\n",
       " 1780099.0,\n",
       " 1780610.0,\n",
       " 1782575.0,\n",
       " 1810355.0,\n",
       " 1819807.0,\n",
       " 1829267.0,\n",
       " 1830004.0,\n",
       " 1841312.0,\n",
       " 1881781.0,\n",
       " 1915980.0,\n",
       " 1918842.0,\n",
       " 1923439.0,\n",
       " 1948545.0,\n",
       " 1953175.0,\n",
       " 1968354.0,\n",
       " 1981963.0,\n",
       " 1999129.0,\n",
       " 2020909.0,\n",
       " 2021500.0,\n",
       " 2091661.0,\n",
       " 2098187.0,\n",
       " 2133301.0,\n",
       " 2155789.0,\n",
       " 2159905.0,\n",
       " 2165586.0,\n",
       " 2249405.0,\n",
       " 2250037.0,\n",
       " 2264252.0,\n",
       " 2312232.0,\n",
       " 2399764.0,\n",
       " 2486474.0,\n",
       " 2505690.0,\n",
       " 2670943.0,\n",
       " 2708923.0,\n",
       " 2733044.0,\n",
       " 2805533.0,\n",
       " 2809351.0,\n",
       " 3040962.0,\n",
       " 3126178.0,\n",
       " 3900972.0]"
      ]
     },
     "execution_count": 117,
     "metadata": {},
     "output_type": "execute_result"
    }
   ],
   "source": []
  },
  {
   "cell_type": "code",
   "execution_count": null,
   "metadata": {},
   "outputs": [],
   "source": []
  }
 ],
 "metadata": {
  "interpreter": {
   "hash": "4885f37acae9217c235118400878352aafa7b76e66df698a1f601374f86939a7"
  },
  "kernelspec": {
   "display_name": "Python 3 (ipykernel)",
   "language": "python",
   "name": "python3"
  },
  "language_info": {
   "codemirror_mode": {
    "name": "ipython",
    "version": 3
   },
   "file_extension": ".py",
   "mimetype": "text/x-python",
   "name": "python",
   "nbconvert_exporter": "python",
   "pygments_lexer": "ipython3",
   "version": "3.10.6"
  }
 },
 "nbformat": 4,
 "nbformat_minor": 4
}
