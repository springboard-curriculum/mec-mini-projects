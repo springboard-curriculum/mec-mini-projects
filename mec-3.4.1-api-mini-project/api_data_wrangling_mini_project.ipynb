{
 "cells": [
  {
   "cell_type": "markdown",
   "metadata": {
    "gradient": {
     "editing": false
    }
   },
   "source": [
    "This exercise will require you to pull some data from the Qunadl API. Qaundl is currently the most widely used aggregator of financial market data."
   ]
  },
  {
   "cell_type": "markdown",
   "metadata": {
    "gradient": {
     "editing": false
    }
   },
   "source": [
    "As a first step, you will need to register a free account on the http://www.quandl.com website."
   ]
  },
  {
   "cell_type": "markdown",
   "metadata": {
    "gradient": {
     "editing": false
    }
   },
   "source": [
    "After you register, you will be provided with a unique API key, that you should store:"
   ]
  },
  {
   "cell_type": "code",
   "execution_count": null,
   "metadata": {
    "collapsed": true,
    "gradient": {
     "editing": false
    }
   },
   "outputs": [],
   "source": [
    "# Store the API key as a string - according to PEP8, constants are always named in all upper case\n",
    "API_KEY = ''"
   ]
  },
  {
   "cell_type": "markdown",
   "metadata": {
    "gradient": {
     "editing": false
    }
   },
   "source": [
    "Qaundl has a large number of data sources, but, unfortunately, most of them require a Premium subscription. Still, there are also a good number of free datasets."
   ]
  },
  {
   "cell_type": "markdown",
   "metadata": {
    "gradient": {
     "editing": false
    }
   },
   "source": [
    "For this mini project, we will focus on equities data from the Frankfurt Stock Exhange (FSE), which is available for free. We'll try and analyze the stock prices of a company called Carl Zeiss Meditec, which manufactures tools for eye examinations, as well as medical lasers for laser eye surgery: https://www.zeiss.com/meditec/int/home.html. The company is listed under the stock ticker AFX_X."
   ]
  },
  {
   "cell_type": "markdown",
   "metadata": {
    "gradient": {
     "editing": false
    }
   },
   "source": [
    "You can find the detailed Quandl API instructions here: https://docs.quandl.com/docs/time-series"
   ]
  },
  {
   "cell_type": "markdown",
   "metadata": {
    "gradient": {
     "editing": false
    }
   },
   "source": [
    "While there is a dedicated Python package for connecting to the Quandl API, we would prefer that you use the *requests* package, which can be easily downloaded using *pip* or *conda*. You can find the documentation for the package here: http://docs.python-requests.org/en/master/ "
   ]
  },
  {
   "cell_type": "markdown",
   "metadata": {
    "gradient": {
     "editing": false
    }
   },
   "source": [
    "Finally, apart from the *requests* package, you are encouraged to not use any third party Python packages, such as *pandas*, and instead focus on what's available in the Python Standard Library (the *collections* module might come in handy: https://pymotw.com/3/collections/).\n",
    "Also, since you won't have access to DataFrames, you are encouraged to us Python's native data structures - preferably dictionaries, though some questions can also be answered using lists.\n",
    "You can read more on these data structures here: https://docs.python.org/3/tutorial/datastructures.html"
   ]
  },
  {
   "cell_type": "markdown",
   "metadata": {
    "gradient": {
     "editing": false
    }
   },
   "source": [
    "Keep in mind that the JSON responses you will be getting from the API map almost one-to-one to Python's dictionaries. Unfortunately, they can be very nested, so make sure you read up on indexing dictionaries in the documentation provided above."
   ]
  },
  {
   "cell_type": "code",
   "execution_count": null,
   "metadata": {
    "collapsed": true,
    "gradient": {
     "editing": false
    }
   },
   "outputs": [],
   "source": [
    "# First, import the relevant modules\n",
    "import requests\n",
    "import pprint"
   ]
  },
  {
   "cell_type": "code",
   "execution_count": null,
   "metadata": {
    "gradient": {
     "editing": false
    }
   },
   "outputs": [],
   "source": [
    "# Now, call the Quandl API and pull out a small sample of the data (only one day) to get a glimpse\n",
    "# into the JSON structure that will be returned\n",
    "\n",
    "quandl_dataset_url=\"https://www.quandl.com/api/v3/datasets/FSE/AFX_X.json\"\n",
    "\n",
    "start_date='2017-01-01'\n",
    "end_date='2017-01-03'\n",
    "payload = {'start_date': f'{start_date}', 'end_date': f'{end_date}', 'order':'asc'}\n",
    "resp = requests.get(quandl_dataset_url, params=payload)\n",
    "resp_json=resp.json()\n",
    "#print(resp_json)\n",
    "#pprint.pprint(resp_json)"
   ]
  },
  {
   "cell_type": "code",
   "execution_count": null,
   "metadata": {
    "gradient": {
     "editing": false
    }
   },
   "outputs": [],
   "source": [
    "# Inspect the JSON structure of the object you created, and take note of how nested it is,\n",
    "# as well as the overall structure\n",
    "\n",
    "#print(type(resp_json))\n",
    "#<class 'dict'>\n",
    "\n"
   ]
  },
  {
   "cell_type": "code",
   "execution_count": null,
   "metadata": {
    "collapsed": true,
    "gradient": {
     "editing": false,
     "source_hidden": false
    }
   },
   "outputs": [
    {
     "ename": "NameError",
     "evalue": "name 'API_KEY' is not defined",
     "output_type": "error",
     "traceback": [
      "\u001b[0;31m---------------------------------------------------------------------------\u001b[0m",
      "\u001b[0;31mNameError\u001b[0m                                 Traceback (most recent call last)",
      "\u001b[0;32m<ipython-input-1-8606b8f807ee>\u001b[0m in \u001b[0;36m<module>\u001b[0;34m\u001b[0m\n\u001b[0;32m----> 1\u001b[0;31m \u001b[0mprint\u001b[0m \u001b[0;34m(\u001b[0m\u001b[0mAPI_KEY\u001b[0m\u001b[0;34m)\u001b[0m\u001b[0;34m\u001b[0m\u001b[0;34m\u001b[0m\u001b[0m\n\u001b[0m",
      "\u001b[0;31mNameError\u001b[0m: name 'API_KEY' is not defined"
     ]
    }
   ],
   "source": [
    "print (API_KEY)"
   ]
  },
  {
   "cell_type": "markdown",
   "metadata": {
    "gradient": {
     "editing": false
    }
   },
   "source": [
    "These are your tasks for this mini project:\n",
    "\n",
    "1. Collect data from the Franfurt Stock Exchange, for the ticker AFX_X, for the whole year 2017 (keep in mind that the date format is YYYY-MM-DD).\n",
    "2. Convert the returned JSON object into a Python dictionary.\n",
    "3. Calculate what the highest and lowest opening prices were for the stock in this period.\n",
    "4. What was the largest change in any one day (based on High and Low price)?\n",
    "5. What was the largest change between any two days (based on Closing Price)?\n",
    "6. What was the average daily trading volume during this year?\n",
    "7. (Optional) What was the median trading volume during this year. (Note: you may need to implement your own function for calculating the median.)"
   ]
  },
  {
   "cell_type": "code",
   "execution_count": null,
   "metadata": {
    "gradient": {
     "editing": false,
     "source_hidden": false
    }
   },
   "outputs": [],
   "source": []
  },
  {
   "cell_type": "code",
   "execution_count": null,
   "metadata": {
    "gradient": {
     "editing": false
    }
   },
   "outputs": [
    {
     "name": "stdout",
     "output_type": "stream",
     "text": [
      "Calculated Metrics\n",
      "highest_opening_price_so_far 53.11\n",
      "lowest_opening_price_so_far 34.0\n",
      "largest_change_so_far 2.81\n",
      "final largest_two_days_close_diff 2.56\n",
      "average_traded_volume 89124\n",
      "median_traded_volume 76286\n"
     ]
    }
   ],
   "source": [
    "\n",
    "import requests\n",
    "\n",
    "API_KEY = ''\n",
    "\n",
    "\n",
    "# Get data from quandl api\n",
    "# pass start date , end date as parameters\n",
    "# pass 'order':'asc' as parameter to make sure data is sorted in ascending order of data\n",
    "# having data sorted by enable will enable calculating change between any two days\n",
    "def get_data_from_api(url, start_date, end_date):\n",
    "    payload = {'start_date': f'{start_date}', 'end_date': f'{end_date}', 'order': 'asc'}\n",
    "    response = requests.get(url, params=payload)\n",
    "    # use response.json to store in to a dictionary\n",
    "    response_json = response.json()\n",
    "    return response_json\n",
    "\n",
    "\n",
    "# Find index of each data column based on the column name\n",
    "def index_finder(names_list, column_name):\n",
    "    return names_list.index(column_name)\n",
    "\n",
    "\n",
    "# Find median of a given list\n",
    "# Sort the list\n",
    "# If number of elements is even find average of the two middle elements\n",
    "# if number of elements is odd, find the middle element\n",
    "def find_median(input_list):\n",
    "    sorted_list = sorted(input_list)\n",
    "    list_len = len(input_list)\n",
    "    if list_len % 2 == 0:\n",
    "        mid1 = sorted_list[list_len//2]\n",
    "        mid2 = sorted_list[list_len//2-1]\n",
    "        med = (mid1 + mid2)/2\n",
    "    else:\n",
    "        med = sorted_list[list_len//2]\n",
    "    return med\n",
    "\n",
    "\n",
    "# Traverse the data list to calculate needed metrics\n",
    "def traverse_data_to_calculate_metrics(all_data, column_names_list):\n",
    "\n",
    "    # The data in list is arranged in the same order as the column name\n",
    "    # find index for each of the needed data element like Open, High etc\n",
    "    column_index_for_open = index_finder(column_names_list, 'Open')\n",
    "    column_index_for_high = index_finder(column_names_list, 'High')\n",
    "    column_index_for_low = index_finder(column_names_list, 'Low')\n",
    "    column_index_for_close = index_finder(column_names_list, 'Close')\n",
    "    column_index_for_traded_volume = index_finder(column_names_list, 'Traded Volume')\n",
    "\n",
    "    # Find length of array, used to traverse the list and used in calculating average\n",
    "    number_of_days = len(all_data)\n",
    "\n",
    "    # get all data values for the first date in the list\n",
    "    first_day_opening_price = all_data[0][column_index_for_open]\n",
    "    first_day_opening_high = all_data[0][column_index_for_high]\n",
    "    first_day_opening_low = all_data[0][column_index_for_low]\n",
    "    first_day_change = round(first_day_opening_high - first_day_opening_low, 2)\n",
    "    first_day_close = all_data[0][column_index_for_close]\n",
    "    first_day_trading_volume = all_data[0][column_index_for_traded_volume]\n",
    "\n",
    "    # Initialize all metrics like highest_opening_price_so_far, lowest_opening_price_so_far to value from first date\n",
    "    highest_opening_price_so_far = first_day_opening_price\n",
    "    lowest_opening_price_so_far = first_day_opening_price\n",
    "    largest_change_so_far = first_day_change\n",
    "    prev_day_close = first_day_close\n",
    "    largest_two_days_close_diff = round(first_day_close - prev_day_close, 2)\n",
    "    sum_traded_volume = first_day_trading_volume\n",
    "\n",
    "    # start iteration from second date\n",
    "    for i in range(1, number_of_days):\n",
    "        # temp variable to store current day data\n",
    "        d = all_data[i]\n",
    "\n",
    "        # take care of missing values in 'open'\n",
    "        # if data is missing for 'open', use previous day close\n",
    "        if d[column_index_for_open]:\n",
    "            curr_day_opening_price = d[column_index_for_open]\n",
    "        else:\n",
    "            curr_day_opening_price = prev_day_close\n",
    "\n",
    "        # find maximum of current day opening price and highest_opening_price_so_far\n",
    "        if curr_day_opening_price > highest_opening_price_so_far:\n",
    "            highest_opening_price_so_far = curr_day_opening_price\n",
    "\n",
    "        # find minimum of current day opening price and lowest_opening_price_so_far\n",
    "        if curr_day_opening_price < lowest_opening_price_so_far:\n",
    "            lowest_opening_price_so_far = curr_day_opening_price\n",
    "\n",
    "        # find difference between high and low for the current day\n",
    "        curr_day_high = d[column_index_for_high]\n",
    "        curr_day_low = d[column_index_for_low]\n",
    "        curr_day_change = round(curr_day_high - curr_day_low, 2)\n",
    "\n",
    "        # find maximum of current day change and largest_change_so_far\n",
    "        if curr_day_change > largest_change_so_far:\n",
    "            largest_change_so_far = curr_day_change\n",
    "\n",
    "        # find difference between current day close and previous day close\n",
    "        curr_day_close = d[column_index_for_close]\n",
    "        curr_close_diff = round(abs(curr_day_close - prev_day_close), 2)\n",
    "\n",
    "        # find maximum of current day close and largest_two_days_close_diff\n",
    "        if curr_close_diff > largest_two_days_close_diff:\n",
    "            largest_two_days_close_diff = curr_close_diff\n",
    "        prev_day_close = curr_day_close\n",
    "\n",
    "        # add trading volume\n",
    "        curr_day_trading_volume = d[column_index_for_traded_volume]\n",
    "        sum_traded_volume += curr_day_trading_volume\n",
    "\n",
    "    print ('Calculated Metrics')\n",
    "\n",
    "    # Calculate what the highest and lowest opening prices were for the stock in this period\n",
    "    print ('highest_opening_price_so_far', highest_opening_price_so_far)\n",
    "    print ('lowest_opening_price_so_far', lowest_opening_price_so_far)\n",
    "\n",
    "    # What was the largest change in any one day (based on High and Low price)?\n",
    "    print ('largest_change_so_far', largest_change_so_far)\n",
    "\n",
    "    # What was the largest change between any two days (based on Closing Price)?\n",
    "    print ('final largest_two_days_close_diff', largest_two_days_close_diff)\n",
    "\n",
    "    # find average trading volume\n",
    "    average_traded_volume = round(sum_traded_volume / number_of_days)\n",
    "    # What was the average daily trading volume during this year?\n",
    "    print ('average_traded_volume', average_traded_volume)\n",
    "\n",
    "    # median - step 1: traverse the list and store the traded volume to a new list\n",
    "    traded_volume_list = [i[column_index_for_traded_volume] for i in all_data]\n",
    "    # median - step 2: call find median\n",
    "    median_traded_volume = find_median(traded_volume_list)\n",
    "    # What was the median trading volume during this year\n",
    "    print ('median_traded_volume', round(median_traded_volume))\n",
    "\n",
    "\n",
    "def main():\n",
    "    # Initialize url for ticker AFX_X\n",
    "    quandl_dataset_url = \"https://www.quandl.com/api/v3/datasets/FSE/AFX_X.json\"\n",
    "    start_date = '2017-01-01'\n",
    "    end_date = '2017-12-31'\n",
    "\n",
    "    # collect data from api for year 2017\n",
    "    quandset_api_response = get_data_from_api(quandl_dataset_url, start_date, end_date)\n",
    "    # get data values and column names\n",
    "    all_data = quandset_api_response['dataset']['data']\n",
    "    column_names_list = quandset_api_response['dataset']['column_names']\n",
    "    # iterate through data and derive metrics\n",
    "    traverse_data_to_calculate_metrics(all_data, column_names_list)\n",
    "\n",
    "\n",
    "main()\n"
   ]
  },
  {
   "cell_type": "code",
   "execution_count": null,
   "metadata": {
    "gradient": {
     "editing": false,
     "source_hidden": false
    }
   },
   "outputs": [],
   "source": []
  },
  {
   "cell_type": "code",
   "execution_count": null,
   "metadata": {
    "gradient": {
     "editing": false,
     "source_hidden": false
    }
   },
   "outputs": [],
   "source": []
  }
 ],
 "metadata": {
  "kernelspec": {
   "display_name": "Python 3",
   "language": "python",
   "name": "python3"
  },
  "language_info": {
   "codemirror_mode": {
    "name": "ipython",
    "version": 3
   },
   "file_extension": ".py",
   "mimetype": "text/x-python",
   "name": "python",
   "nbconvert_exporter": "python",
   "pygments_lexer": "ipython3",
   "version": "3.7.2"
  }
 },
 "nbformat": 4,
 "nbformat_minor": 2
}
